{
 "cells": [
  {
   "cell_type": "code",
   "execution_count": 1,
   "metadata": {},
   "outputs": [
    {
     "name": "stdout",
     "output_type": "stream",
     "text": [
      "Collecting webdriver_manager\n",
      "  Downloading webdriver_manager-4.0.0-py2.py3-none-any.whl (27 kB)\n",
      "Requirement already satisfied: requests in c:\\users\\user\\anaconda3\\lib\\site-packages (from webdriver_manager) (2.27.1)\n",
      "Requirement already satisfied: packaging in c:\\users\\user\\anaconda3\\lib\\site-packages (from webdriver_manager) (21.3)\n",
      "Requirement already satisfied: python-dotenv in c:\\users\\user\\anaconda3\\lib\\site-packages (from webdriver_manager) (1.0.0)\n",
      "Requirement already satisfied: pyparsing!=3.0.5,>=2.0.2 in c:\\users\\user\\anaconda3\\lib\\site-packages (from packaging->webdriver_manager) (3.0.4)\n",
      "Requirement already satisfied: charset-normalizer~=2.0.0 in c:\\users\\user\\anaconda3\\lib\\site-packages (from requests->webdriver_manager) (2.0.4)\n",
      "Requirement already satisfied: certifi>=2017.4.17 in c:\\users\\user\\anaconda3\\lib\\site-packages (from requests->webdriver_manager) (2021.10.8)\n",
      "Requirement already satisfied: urllib3<1.27,>=1.21.1 in c:\\users\\user\\anaconda3\\lib\\site-packages (from requests->webdriver_manager) (1.26.9)\n",
      "Requirement already satisfied: idna<4,>=2.5 in c:\\users\\user\\anaconda3\\lib\\site-packages (from requests->webdriver_manager) (3.3)\n",
      "Installing collected packages: webdriver-manager\n",
      "Successfully installed webdriver-manager-4.0.0\n"
     ]
    },
    {
     "name": "stderr",
     "output_type": "stream",
     "text": [
      "WARNING: Ignoring invalid distribution -atplotlib (c:\\users\\user\\anaconda3\\lib\\site-packages)\n",
      "WARNING: Ignoring invalid distribution -atplotlib (c:\\users\\user\\anaconda3\\lib\\site-packages)\n",
      "WARNING: Ignoring invalid distribution -atplotlib (c:\\users\\user\\anaconda3\\lib\\site-packages)\n",
      "WARNING: Ignoring invalid distribution -atplotlib (c:\\users\\user\\anaconda3\\lib\\site-packages)\n",
      "WARNING: Ignoring invalid distribution -atplotlib (c:\\users\\user\\anaconda3\\lib\\site-packages)\n",
      "WARNING: Ignoring invalid distribution -atplotlib (c:\\users\\user\\anaconda3\\lib\\site-packages)\n",
      "WARNING: Ignoring invalid distribution -atplotlib (c:\\users\\user\\anaconda3\\lib\\site-packages)\n"
     ]
    }
   ],
   "source": [
    "!pip install webdriver_manager"
   ]
  },
  {
   "cell_type": "code",
   "execution_count": 6,
   "metadata": {},
   "outputs": [
    {
     "name": "stdout",
     "output_type": "stream",
     "text": [
      "https://www.youtube.com/watch?v=GuKCvtxz7N0\n",
      "line 20 : \n",
      "Error while sorting comments: Message: \n",
      "Stacktrace:\n",
      "\tGetHandleVerifier [0x009937C3+48947]\n",
      "\t(No symbol) [0x00928551]\n",
      "\t(No symbol) [0x0082C92D]\n",
      "\t(No symbol) [0x00859E38]\n",
      "\t(No symbol) [0x00859EFB]\n",
      "\t(No symbol) [0x00888EF2]\n",
      "\t(No symbol) [0x008750D4]\n",
      "\t(No symbol) [0x008875DA]\n",
      "\t(No symbol) [0x00874E86]\n",
      "\t(No symbol) [0x008516C7]\n",
      "\t(No symbol) [0x0085284D]\n",
      "\tGetHandleVerifier [0x00BDFDF9+2458985]\n",
      "\tGetHandleVerifier [0x00C2744F+2751423]\n",
      "\tGetHandleVerifier [0x00C21361+2726609]\n",
      "\tGetHandleVerifier [0x00A10680+560624]\n",
      "\t(No symbol) [0x0093238C]\n",
      "\t(No symbol) [0x0092E268]\n",
      "\t(No symbol) [0x0092E392]\n",
      "\t(No symbol) [0x009210B7]\n",
      "\tBaseThreadInitThunk [0x76267BA9+25]\n",
      "\tRtlInitializeExceptionChain [0x7789B79B+107]\n",
      "\tRtlClearBits [0x7789B71F+191]\n",
      "\n"
     ]
    }
   ],
   "source": [
    "from selenium import webdriver\n",
    "from selenium.webdriver.common.keys import Keys\n",
    "from selenium.webdriver.common.by import By\n",
    "from selenium.webdriver.support.ui import WebDriverWait\n",
    "from selenium.webdriver.support import expected_conditions as EC\n",
    "from selenium.webdriver.chrome.service import Service\n",
    "from webdriver_manager.chrome import ChromeDriverManager\n",
    "import time\n",
    "\n",
    "# 유튜브 URL 설정\n",
    "URL = ''\n",
    "\n",
    "driver = webdriver.Chrome(service= Service(ChromeDriverManager().install()))\n",
    "driver.get(URL)\n",
    "\n",
    "# 댓글 섹션으로 스크롤\n",
    "driver.execute_script('window.scrollTo(0, window.scrollY + 500)')\n",
    "print(\"line 20 : \")\n",
    "# 최신순 클릭\n",
    "try:\n",
    "    sort_button = WebDriverWait(driver, 10).until(\n",
    "        EC.presence_of_element_located((By.XPATH, '//*[@id=\"sort-menu\"]')))\n",
    "    sort_button.click()\n",
    "    recent_sort = WebDriverWait(driver, 10).until(\n",
    "        EC.presence_of_element_located((By.XPATH, '//*[@id=\"menu\"]/a[1]/paper-item/paper-item-body/div[1]'))\n",
    "    )\n",
    "    recent_sort.click()\n",
    "except Exception as e:\n",
    "    print(\"Error while sorting comments:\", e)\n",
    "\n",
    "time.sleep(2)\n",
    "\n"
   ]
  },
  {
   "cell_type": "code",
   "execution_count": 7,
   "metadata": {},
   "outputs": [],
   "source": [
    "last_height = driver.execute_script(\"return document.documentElement.scrollHeight\")\n",
    "while True:\n",
    "    driver.execute_script(\"window.scrollTo(0, document.documentElement.scrollHeight);\")\n",
    "    time.sleep(2)\n",
    "    new_height = driver.execute_script(\"return document.documentElement.scrollHeight\")\n",
    "    if new_height == last_height:\n",
    "        break\n",
    "    last_height = new_height\n",
    "\n"
   ]
  },
  {
   "cell_type": "code",
   "execution_count": 22,
   "metadata": {},
   "outputs": [],
   "source": [
    "# 댓글 크롤링\n",
    "import pandas as pd\n",
    "\n",
    "comments = []\n",
    "\n",
    "comment = driver.find_elements(By.XPATH,'//*[@id=\"sections\"]//*[@id=\"content-text\"]')    \n",
    "id_1 = driver.find_elements(By.XPATH,'//*[@id=\"sections\"]//*[@id=\"text\"]')\n",
    "id_2 = driver.find_elements(By.XPATH,'//*[@id=\"sections\"]//*[@id=\"author-text\"]/span')\n",
    "\n",
    "commnet_id = id_1 + id_2\n",
    "for comment,id in zip(comment,commnet_id):\n",
    "    # print(id.text)\n",
    "    comments.append([id.text,comment.text])\n",
    "    \n",
    "\n",
    "\n",
    "# 페이지 종료\n",
    "# driver.quit()\n",
    "\n",
    "youtube_comment = pd.DataFrame(comments)\n",
    "youtube_comment.columns=['id','commnet']"
   ]
  },
  {
   "cell_type": "code",
   "execution_count": 23,
   "metadata": {},
   "outputs": [
    {
     "data": {
      "text/html": [
       "<div>\n",
       "<style scoped>\n",
       "    .dataframe tbody tr th:only-of-type {\n",
       "        vertical-align: middle;\n",
       "    }\n",
       "\n",
       "    .dataframe tbody tr th {\n",
       "        vertical-align: top;\n",
       "    }\n",
       "\n",
       "    .dataframe thead th {\n",
       "        text-align: right;\n",
       "    }\n",
       "</style>\n",
       "<table border=\"1\" class=\"dataframe\">\n",
       "  <thead>\n",
       "    <tr style=\"text-align: right;\">\n",
       "      <th></th>\n",
       "      <th>id</th>\n",
       "      <th>commnet</th>\n",
       "    </tr>\n",
       "  </thead>\n",
       "  <tbody>\n",
       "    <tr>\n",
       "      <th>0</th>\n",
       "      <td>@jachung__</td>\n",
       "      <td>제가 느꼈던 충격과 배움이 여러분들에게도 그대로 전달되길 바랍니다 ㅎㅎ\\n\\n김한균...</td>\n",
       "    </tr>\n",
       "    <tr>\n",
       "      <th>1</th>\n",
       "      <td></td>\n",
       "      <td>자청님 구독하고있는데 남편회사대표님이네요 신기해요 ㅋㅋㅋㅋ 어린학생이 대표자리에 이...</td>\n",
       "    </tr>\n",
       "    <tr>\n",
       "      <th>2</th>\n",
       "      <td>@user-iw1oz2tx7i</td>\n",
       "      <td>대표님 거래처는 아니지만 관련업종 종사자입니다. 홍콩에서 화장품박람회때 우연히 인사...</td>\n",
       "    </tr>\n",
       "    <tr>\n",
       "      <th>3</th>\n",
       "      <td>@user-tv8py5lj2e</td>\n",
       "      <td>이번 편 미쳤네 진짜… 다른 편들도 다 좋았지만 유독 더 느끼는게 많고 어떻게 살아...</td>\n",
       "    </tr>\n",
       "    <tr>\n",
       "      <th>4</th>\n",
       "      <td>@user-mi6xg4qh1q</td>\n",
       "      <td>얼마 벌고 대단한 가치를 지닌 기업을 가진 대표보다는 학창시절부터 진심을갖고 목표를...</td>\n",
       "    </tr>\n",
       "    <tr>\n",
       "      <th>...</th>\n",
       "      <td>...</td>\n",
       "      <td>...</td>\n",
       "    </tr>\n",
       "    <tr>\n",
       "      <th>257</th>\n",
       "      <td>@personabee</td>\n",
       "      <td>마크주커버그..</td>\n",
       "    </tr>\n",
       "    <tr>\n",
       "      <th>258</th>\n",
       "      <td>@bull5046</td>\n",
       "      <td>호우 !</td>\n",
       "    </tr>\n",
       "    <tr>\n",
       "      <th>259</th>\n",
       "      <td>@KT_WBWS</td>\n",
       "      <td>세바시 ,, 김한균</td>\n",
       "    </tr>\n",
       "    <tr>\n",
       "      <th>260</th>\n",
       "      <td>@Justin-mt4oo</td>\n",
       "      <td>앗싸 1 등 ㅎㅎㅎ</td>\n",
       "    </tr>\n",
       "    <tr>\n",
       "      <th>261</th>\n",
       "      <td>@gauze3539</td>\n",
       "      <td>에릭</td>\n",
       "    </tr>\n",
       "  </tbody>\n",
       "</table>\n",
       "<p>262 rows × 2 columns</p>\n",
       "</div>"
      ],
      "text/plain": [
       "                   id                                            commnet\n",
       "0          @jachung__  제가 느꼈던 충격과 배움이 여러분들에게도 그대로 전달되길 바랍니다 ㅎㅎ\\n\\n김한균...\n",
       "1                      자청님 구독하고있는데 남편회사대표님이네요 신기해요 ㅋㅋㅋㅋ 어린학생이 대표자리에 이...\n",
       "2    @user-iw1oz2tx7i  대표님 거래처는 아니지만 관련업종 종사자입니다. 홍콩에서 화장품박람회때 우연히 인사...\n",
       "3    @user-tv8py5lj2e  이번 편 미쳤네 진짜… 다른 편들도 다 좋았지만 유독 더 느끼는게 많고 어떻게 살아...\n",
       "4    @user-mi6xg4qh1q  얼마 벌고 대단한 가치를 지닌 기업을 가진 대표보다는 학창시절부터 진심을갖고 목표를...\n",
       "..                ...                                                ...\n",
       "257       @personabee                                           마크주커버그..\n",
       "258         @bull5046                                               호우 !\n",
       "259          @KT_WBWS                                         세바시 ,, 김한균\n",
       "260     @Justin-mt4oo                                         앗싸 1 등 ㅎㅎㅎ\n",
       "261        @gauze3539                                                 에릭\n",
       "\n",
       "[262 rows x 2 columns]"
      ]
     },
     "execution_count": 23,
     "metadata": {},
     "output_type": "execute_result"
    }
   ],
   "source": [
    "youtube_comment"
   ]
  },
  {
   "cell_type": "code",
   "execution_count": null,
   "metadata": {},
   "outputs": [],
   "source": []
  }
 ],
 "metadata": {
  "kernelspec": {
   "display_name": "Python 3.9.12 ('base')",
   "language": "python",
   "name": "python3"
  },
  "language_info": {
   "codemirror_mode": {
    "name": "ipython",
    "version": 3
   },
   "file_extension": ".py",
   "mimetype": "text/x-python",
   "name": "python",
   "nbconvert_exporter": "python",
   "pygments_lexer": "ipython3",
   "version": "3.9.12"
  },
  "orig_nbformat": 4,
  "vscode": {
   "interpreter": {
    "hash": "3513b7ad33418716f036f1805e5538af200630c54435157a73d825af64b085ae"
   }
  }
 },
 "nbformat": 4,
 "nbformat_minor": 2
}
